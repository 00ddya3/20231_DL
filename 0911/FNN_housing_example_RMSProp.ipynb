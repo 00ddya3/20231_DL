{
 "cells": [
  {
   "cell_type": "code",
   "execution_count": 1,
   "metadata": {},
   "outputs": [],
   "source": [
    "import warnings\n",
    "warnings.filterwarnings('ignore')\n",
    "import numpy as np\n",
    "np.set_printoptions(suppress=True)"
   ]
  },
  {
   "cell_type": "code",
   "execution_count": 2,
   "metadata": {},
   "outputs": [],
   "source": [
    "import tensorflow as tf\n",
    "from tensorflow import keras"
   ]
  },
  {
   "cell_type": "code",
   "execution_count": 4,
   "metadata": {},
   "outputs": [],
   "source": [
    "(train_data, train_targets), (test_data, test_targets) =keras.datasets.boston_housing.load_data()"
   ]
  },
  {
   "cell_type": "code",
   "execution_count": 5,
   "metadata": {},
   "outputs": [],
   "source": [
    "mean = train_data.mean(axis=0)\n",
    "train_data -= mean\n",
    "std = train_data.std(axis=0)\n",
    "train_data /= std\n",
    "test_data -= mean\n",
    "test_data /= std"
   ]
  },
  {
   "cell_type": "code",
   "execution_count": 6,
   "metadata": {},
   "outputs": [],
   "source": [
    "from tensorflow.keras import models\n",
    "from tensorflow.keras import layers"
   ]
  },
  {
   "cell_type": "code",
   "execution_count": 7,
   "metadata": {},
   "outputs": [
    {
     "data": {
      "text/plain": [
       "(404, 13)"
      ]
     },
     "execution_count": 7,
     "metadata": {},
     "output_type": "execute_result"
    }
   ],
   "source": [
    "train_data.shape"
   ]
  },
  {
   "cell_type": "code",
   "execution_count": 8,
   "metadata": {},
   "outputs": [],
   "source": [
    "model = models.Sequential()"
   ]
  },
  {
   "cell_type": "code",
   "execution_count": 9,
   "metadata": {},
   "outputs": [],
   "source": [
    "model.add(layers.Dense(64, activation = 'relu', kernel_initializer = 'glorot_uniform', input_shape=(train_data.shape[1],)))"
   ]
  },
  {
   "cell_type": "code",
   "execution_count": 10,
   "metadata": {},
   "outputs": [],
   "source": [
    "model.add(layers.Dense(64, activation = 'relu', kernel_initializer = 'glorot_uniform'))"
   ]
  },
  {
   "cell_type": "code",
   "execution_count": 11,
   "metadata": {},
   "outputs": [],
   "source": [
    "model.add(layers.Dense(1))"
   ]
  },
  {
   "cell_type": "code",
   "execution_count": 12,
   "metadata": {},
   "outputs": [
    {
     "name": "stdout",
     "output_type": "stream",
     "text": [
      "Model: \"sequential\"\n",
      "_________________________________________________________________\n",
      " Layer (type)                Output Shape              Param #   \n",
      "=================================================================\n",
      " dense (Dense)               (None, 64)                896       \n",
      "                                                                 \n",
      " dense_1 (Dense)             (None, 64)                4160      \n",
      "                                                                 \n",
      " dense_2 (Dense)             (None, 1)                 65        \n",
      "                                                                 \n",
      "=================================================================\n",
      "Total params: 5,121\n",
      "Trainable params: 5,121\n",
      "Non-trainable params: 0\n",
      "_________________________________________________________________\n"
     ]
    }
   ],
   "source": [
    "model.summary()"
   ]
  },
  {
   "cell_type": "markdown",
   "metadata": {},
   "source": [
    "## RMSprop 옵티마이저 사용해 보기"
   ]
  },
  {
   "cell_type": "code",
   "execution_count": 13,
   "metadata": {},
   "outputs": [],
   "source": [
    "rmsprop = tf.keras.optimizers.RMSprop(learning_rate=0.01, rho=0.85, momentum=0.9)\n",
    "#rho: moving_average"
   ]
  },
  {
   "cell_type": "code",
   "execution_count": 14,
   "metadata": {},
   "outputs": [],
   "source": [
    "model.compile(optimizer=rmsprop, loss='mse')"
   ]
  },
  {
   "cell_type": "code",
   "execution_count": 15,
   "metadata": {
    "scrolled": true
   },
   "outputs": [
    {
     "name": "stdout",
     "output_type": "stream",
     "text": [
      "Epoch 1/80\n",
      "7/7 [==============================] - 0s 2ms/step - loss: 1024.8231\n",
      "Epoch 2/80\n",
      "7/7 [==============================] - 0s 2ms/step - loss: 223.0255\n",
      "Epoch 3/80\n",
      "7/7 [==============================] - 0s 2ms/step - loss: 170.4137\n",
      "Epoch 4/80\n",
      "7/7 [==============================] - 0s 2ms/step - loss: 73.5884\n",
      "Epoch 5/80\n",
      "7/7 [==============================] - 0s 2ms/step - loss: 43.2716\n",
      "Epoch 6/80\n",
      "7/7 [==============================] - 0s 2ms/step - loss: 30.0886\n",
      "Epoch 7/80\n",
      "7/7 [==============================] - 0s 1ms/step - loss: 18.9111\n",
      "Epoch 8/80\n",
      "7/7 [==============================] - 0s 2ms/step - loss: 16.6380\n",
      "Epoch 9/80\n",
      "7/7 [==============================] - 0s 2ms/step - loss: 16.2357\n",
      "Epoch 10/80\n",
      "7/7 [==============================] - 0s 1ms/step - loss: 15.9175\n",
      "Epoch 11/80\n",
      "7/7 [==============================] - 0s 1ms/step - loss: 12.5101\n",
      "Epoch 12/80\n",
      "7/7 [==============================] - 0s 2ms/step - loss: 13.4456\n",
      "Epoch 13/80\n",
      "7/7 [==============================] - 0s 2ms/step - loss: 11.4349\n",
      "Epoch 14/80\n",
      "7/7 [==============================] - 0s 1ms/step - loss: 10.9105\n",
      "Epoch 15/80\n",
      "7/7 [==============================] - 0s 1ms/step - loss: 11.0132\n",
      "Epoch 16/80\n",
      "7/7 [==============================] - 0s 1ms/step - loss: 9.6558\n",
      "Epoch 17/80\n",
      "7/7 [==============================] - 0s 1ms/step - loss: 13.0760\n",
      "Epoch 18/80\n",
      "7/7 [==============================] - 0s 1ms/step - loss: 13.1106\n",
      "Epoch 19/80\n",
      "7/7 [==============================] - 0s 2ms/step - loss: 12.2548\n",
      "Epoch 20/80\n",
      "7/7 [==============================] - 0s 2ms/step - loss: 9.8807\n",
      "Epoch 21/80\n",
      "7/7 [==============================] - 0s 2ms/step - loss: 9.5523\n",
      "Epoch 22/80\n",
      "7/7 [==============================] - 0s 2ms/step - loss: 9.4370\n",
      "Epoch 23/80\n",
      "7/7 [==============================] - 0s 1ms/step - loss: 9.2144\n",
      "Epoch 24/80\n",
      "7/7 [==============================] - 0s 1ms/step - loss: 7.5946\n",
      "Epoch 25/80\n",
      "7/7 [==============================] - 0s 1ms/step - loss: 13.3076\n",
      "Epoch 26/80\n",
      "7/7 [==============================] - 0s 2ms/step - loss: 11.7843\n",
      "Epoch 27/80\n",
      "7/7 [==============================] - 0s 1ms/step - loss: 8.2749\n",
      "Epoch 28/80\n",
      "7/7 [==============================] - 0s 2ms/step - loss: 9.6950\n",
      "Epoch 29/80\n",
      "7/7 [==============================] - 0s 1ms/step - loss: 11.7619\n",
      "Epoch 30/80\n",
      "7/7 [==============================] - 0s 2ms/step - loss: 10.6756\n",
      "Epoch 31/80\n",
      "7/7 [==============================] - 0s 1ms/step - loss: 8.1258\n",
      "Epoch 32/80\n",
      "7/7 [==============================] - 0s 1ms/step - loss: 7.6751\n",
      "Epoch 33/80\n",
      "7/7 [==============================] - 0s 1ms/step - loss: 5.4709\n",
      "Epoch 34/80\n",
      "7/7 [==============================] - 0s 2ms/step - loss: 7.5812\n",
      "Epoch 35/80\n",
      "7/7 [==============================] - 0s 1ms/step - loss: 7.8825\n",
      "Epoch 36/80\n",
      "7/7 [==============================] - 0s 1ms/step - loss: 6.9482\n",
      "Epoch 37/80\n",
      "7/7 [==============================] - 0s 1ms/step - loss: 7.4005\n",
      "Epoch 38/80\n",
      "7/7 [==============================] - 0s 2ms/step - loss: 10.2360\n",
      "Epoch 39/80\n",
      "7/7 [==============================] - 0s 1ms/step - loss: 8.4273\n",
      "Epoch 40/80\n",
      "7/7 [==============================] - 0s 1ms/step - loss: 5.8522\n",
      "Epoch 41/80\n",
      "7/7 [==============================] - 0s 1ms/step - loss: 9.6460\n",
      "Epoch 42/80\n",
      "7/7 [==============================] - 0s 1ms/step - loss: 11.0235\n",
      "Epoch 43/80\n",
      "7/7 [==============================] - 0s 1ms/step - loss: 7.2958\n",
      "Epoch 44/80\n",
      "7/7 [==============================] - 0s 1ms/step - loss: 6.0466\n",
      "Epoch 45/80\n",
      "7/7 [==============================] - 0s 1ms/step - loss: 6.1841\n",
      "Epoch 46/80\n",
      "7/7 [==============================] - 0s 1ms/step - loss: 7.2774\n",
      "Epoch 47/80\n",
      "7/7 [==============================] - 0s 1ms/step - loss: 9.4360\n",
      "Epoch 48/80\n",
      "7/7 [==============================] - 0s 2ms/step - loss: 6.8061\n",
      "Epoch 49/80\n",
      "7/7 [==============================] - 0s 2ms/step - loss: 4.7023\n",
      "Epoch 50/80\n",
      "7/7 [==============================] - 0s 1ms/step - loss: 5.8170\n",
      "Epoch 51/80\n",
      "7/7 [==============================] - 0s 1ms/step - loss: 7.5403\n",
      "Epoch 52/80\n",
      "7/7 [==============================] - 0s 1ms/step - loss: 5.5602\n",
      "Epoch 53/80\n",
      "7/7 [==============================] - 0s 1ms/step - loss: 6.7318\n",
      "Epoch 54/80\n",
      "7/7 [==============================] - 0s 1ms/step - loss: 9.4027\n",
      "Epoch 55/80\n",
      "7/7 [==============================] - 0s 1ms/step - loss: 8.2353\n",
      "Epoch 56/80\n",
      "7/7 [==============================] - 0s 1ms/step - loss: 4.9194\n",
      "Epoch 57/80\n",
      "7/7 [==============================] - 0s 997us/step - loss: 6.3644\n",
      "Epoch 58/80\n",
      "7/7 [==============================] - 0s 1ms/step - loss: 5.7156\n",
      "Epoch 59/80\n",
      "7/7 [==============================] - 0s 1ms/step - loss: 8.6193\n",
      "Epoch 60/80\n",
      "7/7 [==============================] - 0s 986us/step - loss: 7.1236\n",
      "Epoch 61/80\n",
      "7/7 [==============================] - 0s 1ms/step - loss: 5.3535\n",
      "Epoch 62/80\n",
      "7/7 [==============================] - 0s 1ms/step - loss: 5.0704\n",
      "Epoch 63/80\n",
      "7/7 [==============================] - 0s 1ms/step - loss: 8.5519\n",
      "Epoch 64/80\n",
      "7/7 [==============================] - 0s 999us/step - loss: 10.4063\n",
      "Epoch 65/80\n",
      "7/7 [==============================] - 0s 1ms/step - loss: 6.4720\n",
      "Epoch 66/80\n",
      "7/7 [==============================] - 0s 1ms/step - loss: 4.5258\n",
      "Epoch 67/80\n",
      "7/7 [==============================] - 0s 1ms/step - loss: 4.2076\n",
      "Epoch 68/80\n",
      "7/7 [==============================] - 0s 1ms/step - loss: 4.8489\n",
      "Epoch 69/80\n",
      "7/7 [==============================] - 0s 1ms/step - loss: 4.1452\n",
      "Epoch 70/80\n",
      "7/7 [==============================] - 0s 1ms/step - loss: 5.0748\n",
      "Epoch 71/80\n",
      "7/7 [==============================] - 0s 1ms/step - loss: 4.6435\n",
      "Epoch 72/80\n",
      "7/7 [==============================] - 0s 1ms/step - loss: 4.3009\n",
      "Epoch 73/80\n",
      "7/7 [==============================] - 0s 1ms/step - loss: 3.7843\n",
      "Epoch 74/80\n",
      "7/7 [==============================] - 0s 1ms/step - loss: 5.6339\n",
      "Epoch 75/80\n",
      "7/7 [==============================] - 0s 2ms/step - loss: 5.3947\n",
      "Epoch 76/80\n",
      "7/7 [==============================] - 0s 2ms/step - loss: 4.0485\n",
      "Epoch 77/80\n",
      "7/7 [==============================] - 0s 1ms/step - loss: 5.3977\n",
      "Epoch 78/80\n",
      "7/7 [==============================] - 0s 1ms/step - loss: 4.3998\n",
      "Epoch 79/80\n",
      "7/7 [==============================] - 0s 2ms/step - loss: 5.0924\n",
      "Epoch 80/80\n",
      "7/7 [==============================] - 0s 2ms/step - loss: 3.6068\n"
     ]
    }
   ],
   "source": [
    "# model.fit(train_data, train_targets, epochs=80, batch_size=16)\n",
    "history = model.fit(train_data, train_targets, epochs=80, batch_size=64)"
   ]
  },
  {
   "cell_type": "markdown",
   "metadata": {},
   "source": [
    "## Loss 값 변화 살펴보기"
   ]
  },
  {
   "cell_type": "code",
   "execution_count": 16,
   "metadata": {},
   "outputs": [],
   "source": [
    "import matplotlib.pyplot as plt"
   ]
  },
  {
   "cell_type": "code",
   "execution_count": 17,
   "metadata": {},
   "outputs": [
    {
     "data": {
      "image/png": "[encoded data removed]",
      "text/plain": [
       "<Figure size 640x480 with 1 Axes>"
      ]
     },
     "metadata": {},
     "output_type": "display_data"
    }
   ],
   "source": [
    "plt.plot(history.history['loss'])\n",
    "plt.xlabel('epoch')\n",
    "plt.ylabel('loss')\n",
    "plt.legend(['train'])\n",
    "plt.show()"
   ]
  },
  {
   "cell_type": "markdown",
   "metadata": {},
   "source": [
    "# 성능 평가하기"
   ]
  },
  {
   "cell_type": "code",
   "execution_count": 18,
   "metadata": {},
   "outputs": [
    {
     "name": "stdout",
     "output_type": "stream",
     "text": [
      "4/4 [==============================] - 0s 1ms/step\n"
     ]
    },
    {
     "data": {
      "text/plain": [
       "3.4854190045321967"
      ]
     },
     "execution_count": 18,
     "metadata": {},
     "output_type": "execute_result"
    }
   ],
   "source": [
    "y_pred = model.predict(test_data)\n",
    "from sklearn.metrics import mean_squared_error\n",
    "mean_squared_error(test_targets, y_pred)**0.5"
   ]
  },
  {
   "cell_type": "code",
   "execution_count": 19,
   "metadata": {},
   "outputs": [
    {
     "data": {
      "text/plain": [
       "0.8540655453445946"
      ]
     },
     "execution_count": 19,
     "metadata": {},
     "output_type": "execute_result"
    }
   ],
   "source": [
    "from sklearn.metrics import r2_score\n",
    "r2_score(test_targets, y_pred)"
   ]
  },
  {
   "cell_type": "code",
   "execution_count": null,
   "metadata": {},
   "outputs": [],
   "source": []
  }
 ],
 "metadata": {
  "kernelspec": {
   "display_name": "Python 3 (ipykernel)",
   "language": "python",
   "name": "python3"
  },
  "language_info": {
   "codemirror_mode": {
    "name": "ipython",
    "version": 3
   },
   "file_extension": ".py",
   "mimetype": "text/x-python",
   "name": "python",
   "nbconvert_exporter": "python",
   "pygments_lexer": "ipython3",
   "version": "3.8.5"
  }
 },
 "nbformat": 4,
 "nbformat_minor": 2
}
