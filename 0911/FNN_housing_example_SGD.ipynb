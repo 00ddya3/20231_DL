{
 "cells": [
  {
   "cell_type": "code",
   "execution_count": 1,
   "metadata": {},
   "outputs": [],
   "source": [
    "import warnings\n",
    "warnings.filterwarnings('ignore')"
   ]
  },
  {
   "cell_type": "code",
   "execution_count": 2,
   "metadata": {},
   "outputs": [],
   "source": [
    "import numpy as np\n",
    "np.set_printoptions(suppress=True)"
   ]
  },
  {
   "cell_type": "code",
   "execution_count": 3,
   "metadata": {},
   "outputs": [],
   "source": [
    "import tensorflow as tf\n",
    "from tensorflow import keras"
   ]
  },
  {
   "cell_type": "code",
   "execution_count": 4,
   "metadata": {},
   "outputs": [],
   "source": [
    "(train_data, train_targets), (test_data, test_targets) = keras.datasets.boston_housing.load_data()"
   ]
  },
  {
   "cell_type": "code",
   "execution_count": 5,
   "metadata": {},
   "outputs": [
    {
     "data": {
      "text/plain": [
       "(404, 13)"
      ]
     },
     "execution_count": 5,
     "metadata": {},
     "output_type": "execute_result"
    }
   ],
   "source": [
    "train_data.shape"
   ]
  },
  {
   "cell_type": "code",
   "execution_count": 6,
   "metadata": {},
   "outputs": [
    {
     "data": {
      "text/plain": [
       "(404,)"
      ]
     },
     "execution_count": 6,
     "metadata": {},
     "output_type": "execute_result"
    }
   ],
   "source": [
    "train_targets.shape"
   ]
  },
  {
   "cell_type": "markdown",
   "metadata": {},
   "source": [
    "404개의 data points <br>\n",
    "13개의 독립변수"
   ]
  },
  {
   "cell_type": "code",
   "execution_count": 7,
   "metadata": {},
   "outputs": [
    {
     "data": {
      "text/plain": [
       "array([  1.23247,   0.     ,   8.14   ,   0.     ,   0.538  ,   6.142  ,\n",
       "        91.7    ,   3.9769 ,   4.     , 307.     ,  21.     , 396.9    ,\n",
       "        18.72   ])"
      ]
     },
     "execution_count": 7,
     "metadata": {},
     "output_type": "execute_result"
    }
   ],
   "source": [
    "train_data[0]"
   ]
  },
  {
   "cell_type": "code",
   "execution_count": 8,
   "metadata": {},
   "outputs": [
    {
     "data": {
      "text/plain": [
       "array([15.2, 42.3, 50. , 21.1, 17.7])"
      ]
     },
     "execution_count": 8,
     "metadata": {},
     "output_type": "execute_result"
    }
   ],
   "source": [
    "train_targets[:5]"
   ]
  },
  {
   "cell_type": "markdown",
   "metadata": {},
   "source": [
    "종속변수는 미국 Boston에 속한 도시들의 70년대 중반 집들의 중간값 <br>\n",
    "data point는 도시 <br>\n",
    "독립변수는 범죄율, 교통 편의성 등 <br>\n",
    "10 = > $ 10K"
   ]
  },
  {
   "cell_type": "code",
   "execution_count": 9,
   "metadata": {},
   "outputs": [],
   "source": [
    "mean = train_data.mean(axis=0)\n",
    "train_data -= mean\n",
    "std = train_data.std(axis=0)\n",
    "train_data /= std\n",
    "test_data -= mean\n",
    "test_data /= std"
   ]
  },
  {
   "cell_type": "code",
   "execution_count": 10,
   "metadata": {},
   "outputs": [],
   "source": [
    "from tensorflow.keras import models\n",
    "from tensorflow.keras import layers"
   ]
  },
  {
   "cell_type": "code",
   "execution_count": 11,
   "metadata": {},
   "outputs": [
    {
     "data": {
      "text/plain": [
       "(404, 13)"
      ]
     },
     "execution_count": 11,
     "metadata": {},
     "output_type": "execute_result"
    }
   ],
   "source": [
    "train_data.shape"
   ]
  },
  {
   "cell_type": "code",
   "execution_count": 12,
   "metadata": {},
   "outputs": [],
   "source": [
    "model = models.Sequential()"
   ]
  },
  {
   "cell_type": "code",
   "execution_count": 13,
   "metadata": {},
   "outputs": [],
   "source": [
    "model.add(layers.Dense(64, activation = 'relu', kernel_initializer = 'glorot_uniform', input_shape=(train_data.shape[1],)))"
   ]
  },
  {
   "cell_type": "code",
   "execution_count": 14,
   "metadata": {},
   "outputs": [],
   "source": [
    "model.add(layers.Dense(64, activation = 'relu', kernel_initializer = 'glorot_uniform'))"
   ]
  },
  {
   "cell_type": "code",
   "execution_count": 15,
   "metadata": {},
   "outputs": [],
   "source": [
    "model.add(layers.Dense(1))"
   ]
  },
  {
   "cell_type": "code",
   "execution_count": 16,
   "metadata": {},
   "outputs": [
    {
     "name": "stdout",
     "output_type": "stream",
     "text": [
      "Model: \"sequential\"\n",
      "_________________________________________________________________\n",
      " Layer (type)                Output Shape              Param #   \n",
      "=================================================================\n",
      " dense (Dense)               (None, 64)                896       \n",
      "                                                                 \n",
      " dense_1 (Dense)             (None, 64)                4160      \n",
      "                                                                 \n",
      " dense_2 (Dense)             (None, 1)                 65        \n",
      "                                                                 \n",
      "=================================================================\n",
      "Total params: 5,121\n",
      "Trainable params: 5,121\n",
      "Non-trainable params: 0\n",
      "_________________________________________________________________\n"
     ]
    }
   ],
   "source": [
    "model.summary()"
   ]
  },
  {
   "cell_type": "code",
   "execution_count": 17,
   "metadata": {},
   "outputs": [
    {
     "data": {
      "image/svg+xml": [
       "<svg xmlns=\"http://www.w3.org/2000/svg\" xmlns:xlink=\"http://www.w3.org/1999/xlink\" width=\"211pt\" height=\"274pt\" viewBox=\"0.00 0.00 234.00 304.00\">\n",
       "<g id=\"graph0\" class=\"graph\" transform=\"scale(0.9 0.9) rotate(0) translate(4 300)\">\n",
       "<title>G</title>\n",
       "<polygon fill=\"white\" stroke=\"transparent\" points=\"-4,4 -4,-300 230,-300 230,4 -4,4\"/>\n",
       "<!-- 2746894262864 -->\n",
       "<g id=\"node1\" class=\"node\">\n",
       "<title>2746894262864</title>\n",
       "<polygon fill=\"none\" stroke=\"black\" points=\"0,-249.5 0,-295.5 226,-295.5 226,-249.5 0,-249.5\"/>\n",
       "<text text-anchor=\"middle\" x=\"42\" y=\"-280.3\" font-family=\"Times New Roman,serif\" font-size=\"14.00\">dense_input</text>\n",
       "<polyline fill=\"none\" stroke=\"black\" points=\"0,-272.5 84,-272.5 \"/>\n",
       "<text text-anchor=\"middle\" x=\"42\" y=\"-257.3\" font-family=\"Times New Roman,serif\" font-size=\"14.00\">InputLayer</text>\n",
       "<polyline fill=\"none\" stroke=\"black\" points=\"84,-249.5 84,-295.5 \"/>\n",
       "<text text-anchor=\"middle\" x=\"112\" y=\"-280.3\" font-family=\"Times New Roman,serif\" font-size=\"14.00\">input:</text>\n",
       "<polyline fill=\"none\" stroke=\"black\" points=\"84,-272.5 140,-272.5 \"/>\n",
       "<text text-anchor=\"middle\" x=\"112\" y=\"-257.3\" font-family=\"Times New Roman,serif\" font-size=\"14.00\">output:</text>\n",
       "<polyline fill=\"none\" stroke=\"black\" points=\"140,-249.5 140,-295.5 \"/>\n",
       "<text text-anchor=\"middle\" x=\"183\" y=\"-280.3\" font-family=\"Times New Roman,serif\" font-size=\"14.00\">[(None, 13)]</text>\n",
       "<polyline fill=\"none\" stroke=\"black\" points=\"140,-272.5 226,-272.5 \"/>\n",
       "<text text-anchor=\"middle\" x=\"183\" y=\"-257.3\" font-family=\"Times New Roman,serif\" font-size=\"14.00\">[(None, 13)]</text>\n",
       "</g>\n",
       "<!-- 2746894262912 -->\n",
       "<g id=\"node2\" class=\"node\">\n",
       "<title>2746894262912</title>\n",
       "<polygon fill=\"none\" stroke=\"black\" points=\"21,-166.5 21,-212.5 205,-212.5 205,-166.5 21,-166.5\"/>\n",
       "<text text-anchor=\"middle\" x=\"46.5\" y=\"-197.3\" font-family=\"Times New Roman,serif\" font-size=\"14.00\">dense</text>\n",
       "<polyline fill=\"none\" stroke=\"black\" points=\"21,-189.5 72,-189.5 \"/>\n",
       "<text text-anchor=\"middle\" x=\"46.5\" y=\"-174.3\" font-family=\"Times New Roman,serif\" font-size=\"14.00\">Dense</text>\n",
       "<polyline fill=\"none\" stroke=\"black\" points=\"72,-166.5 72,-212.5 \"/>\n",
       "<text text-anchor=\"middle\" x=\"100\" y=\"-197.3\" font-family=\"Times New Roman,serif\" font-size=\"14.00\">input:</text>\n",
       "<polyline fill=\"none\" stroke=\"black\" points=\"72,-189.5 128,-189.5 \"/>\n",
       "<text text-anchor=\"middle\" x=\"100\" y=\"-174.3\" font-family=\"Times New Roman,serif\" font-size=\"14.00\">output:</text>\n",
       "<polyline fill=\"none\" stroke=\"black\" points=\"128,-166.5 128,-212.5 \"/>\n",
       "<text text-anchor=\"middle\" x=\"166.5\" y=\"-197.3\" font-family=\"Times New Roman,serif\" font-size=\"14.00\">(None, 13)</text>\n",
       "<polyline fill=\"none\" stroke=\"black\" points=\"128,-189.5 205,-189.5 \"/>\n",
       "<text text-anchor=\"middle\" x=\"166.5\" y=\"-174.3\" font-family=\"Times New Roman,serif\" font-size=\"14.00\">(None, 64)</text>\n",
       "</g>\n",
       "<!-- 2746894262864&#45;&gt;2746894262912 -->\n",
       "<g id=\"edge1\" class=\"edge\">\n",
       "<title>2746894262864-&gt;2746894262912</title>\n",
       "<path fill=\"none\" stroke=\"black\" d=\"M113,-249.37C113,-241.15 113,-231.66 113,-222.73\"/>\n",
       "<polygon fill=\"black\" stroke=\"black\" points=\"116.5,-222.61 113,-212.61 109.5,-222.61 116.5,-222.61\"/>\n",
       "</g>\n",
       "<!-- 2746895008480 -->\n",
       "<g id=\"node3\" class=\"node\">\n",
       "<title>2746895008480</title>\n",
       "<polygon fill=\"none\" stroke=\"black\" points=\"15,-83.5 15,-129.5 211,-129.5 211,-83.5 15,-83.5\"/>\n",
       "<text text-anchor=\"middle\" x=\"46.5\" y=\"-114.3\" font-family=\"Times New Roman,serif\" font-size=\"14.00\">dense_1</text>\n",
       "<polyline fill=\"none\" stroke=\"black\" points=\"15,-106.5 78,-106.5 \"/>\n",
       "<text text-anchor=\"middle\" x=\"46.5\" y=\"-91.3\" font-family=\"Times New Roman,serif\" font-size=\"14.00\">Dense</text>\n",
       "<polyline fill=\"none\" stroke=\"black\" points=\"78,-83.5 78,-129.5 \"/>\n",
       "<text text-anchor=\"middle\" x=\"106\" y=\"-114.3\" font-family=\"Times New Roman,serif\" font-size=\"14.00\">input:</text>\n",
       "<polyline fill=\"none\" stroke=\"black\" points=\"78,-106.5 134,-106.5 \"/>\n",
       "<text text-anchor=\"middle\" x=\"106\" y=\"-91.3\" font-family=\"Times New Roman,serif\" font-size=\"14.00\">output:</text>\n",
       "<polyline fill=\"none\" stroke=\"black\" points=\"134,-83.5 134,-129.5 \"/>\n",
       "<text text-anchor=\"middle\" x=\"172.5\" y=\"-114.3\" font-family=\"Times New Roman,serif\" font-size=\"14.00\">(None, 64)</text>\n",
       "<polyline fill=\"none\" stroke=\"black\" points=\"134,-106.5 211,-106.5 \"/>\n",
       "<text text-anchor=\"middle\" x=\"172.5\" y=\"-91.3\" font-family=\"Times New Roman,serif\" font-size=\"14.00\">(None, 64)</text>\n",
       "</g>\n",
       "<!-- 2746894262912&#45;&gt;2746895008480 -->\n",
       "<g id=\"edge2\" class=\"edge\">\n",
       "<title>2746894262912-&gt;2746895008480</title>\n",
       "<path fill=\"none\" stroke=\"black\" d=\"M113,-166.37C113,-158.15 113,-148.66 113,-139.73\"/>\n",
       "<polygon fill=\"black\" stroke=\"black\" points=\"116.5,-139.61 113,-129.61 109.5,-139.61 116.5,-139.61\"/>\n",
       "</g>\n",
       "<!-- 2746849154720 -->\n",
       "<g id=\"node4\" class=\"node\">\n",
       "<title>2746849154720</title>\n",
       "<polygon fill=\"none\" stroke=\"black\" points=\"15,-0.5 15,-46.5 211,-46.5 211,-0.5 15,-0.5\"/>\n",
       "<text text-anchor=\"middle\" x=\"46.5\" y=\"-31.3\" font-family=\"Times New Roman,serif\" font-size=\"14.00\">dense_2</text>\n",
       "<polyline fill=\"none\" stroke=\"black\" points=\"15,-23.5 78,-23.5 \"/>\n",
       "<text text-anchor=\"middle\" x=\"46.5\" y=\"-8.3\" font-family=\"Times New Roman,serif\" font-size=\"14.00\">Dense</text>\n",
       "<polyline fill=\"none\" stroke=\"black\" points=\"78,-0.5 78,-46.5 \"/>\n",
       "<text text-anchor=\"middle\" x=\"106\" y=\"-31.3\" font-family=\"Times New Roman,serif\" font-size=\"14.00\">input:</text>\n",
       "<polyline fill=\"none\" stroke=\"black\" points=\"78,-23.5 134,-23.5 \"/>\n",
       "<text text-anchor=\"middle\" x=\"106\" y=\"-8.3\" font-family=\"Times New Roman,serif\" font-size=\"14.00\">output:</text>\n",
       "<polyline fill=\"none\" stroke=\"black\" points=\"134,-0.5 134,-46.5 \"/>\n",
       "<text text-anchor=\"middle\" x=\"172.5\" y=\"-31.3\" font-family=\"Times New Roman,serif\" font-size=\"14.00\">(None, 64)</text>\n",
       "<polyline fill=\"none\" stroke=\"black\" points=\"134,-23.5 211,-23.5 \"/>\n",
       "<text text-anchor=\"middle\" x=\"172.5\" y=\"-8.3\" font-family=\"Times New Roman,serif\" font-size=\"14.00\">(None, 1)</text>\n",
       "</g>\n",
       "<!-- 2746895008480&#45;&gt;2746849154720 -->\n",
       "<g id=\"edge3\" class=\"edge\">\n",
       "<title>2746895008480-&gt;2746849154720</title>\n",
       "<path fill=\"none\" stroke=\"black\" d=\"M113,-83.37C113,-75.15 113,-65.66 113,-56.73\"/>\n",
       "<polygon fill=\"black\" stroke=\"black\" points=\"116.5,-56.61 113,-46.61 109.5,-56.61 116.5,-56.61\"/>\n",
       "</g>\n",
       "</g>\n",
       "</svg>"
      ],
      "text/plain": [
       "<IPython.core.display.SVG object>"
      ]
     },
     "execution_count": 17,
     "metadata": {},
     "output_type": "execute_result"
    }
   ],
   "source": [
    "from IPython.display import SVG\n",
    "from keras.utils.vis_utils import model_to_dot\n",
    "SVG(model_to_dot(model, show_shapes= True, show_layer_names=True, dpi=65).create(prog='dot', format='svg'))"
   ]
  },
  {
   "cell_type": "markdown",
   "metadata": {},
   "source": [
    "SGD optimizer 사용하기"
   ]
  },
  {
   "cell_type": "code",
   "execution_count": 18,
   "metadata": {},
   "outputs": [],
   "source": [
    "sgd= tf.keras.optimizers.SGD(learning_rate=0.001, momentum=0.9, nesterov=True)"
   ]
  },
  {
   "cell_type": "code",
   "execution_count": 19,
   "metadata": {},
   "outputs": [],
   "source": [
    "model.compile(optimizer=sgd, loss='mse')"
   ]
  },
  {
   "cell_type": "code",
   "execution_count": 20,
   "metadata": {
    "scrolled": true
   },
   "outputs": [
    {
     "name": "stdout",
     "output_type": "stream",
     "text": [
      "Epoch 1/80\n",
      "7/7 [==============================] - 0s 1ms/step - loss: 415.8602\n",
      "Epoch 2/80\n",
      "7/7 [==============================] - 0s 2ms/step - loss: 64.0954\n",
      "Epoch 3/80\n",
      "7/7 [==============================] - 0s 1ms/step - loss: 26.8510\n",
      "Epoch 4/80\n",
      "7/7 [==============================] - 0s 1ms/step - loss: 15.9308\n",
      "Epoch 5/80\n",
      "7/7 [==============================] - 0s 2ms/step - loss: 12.8309\n",
      "Epoch 6/80\n",
      "7/7 [==============================] - 0s 2ms/step - loss: 11.5291\n",
      "Epoch 7/80\n",
      "7/7 [==============================] - 0s 2ms/step - loss: 10.9199\n",
      "Epoch 8/80\n",
      "7/7 [==============================] - 0s 2ms/step - loss: 10.0256\n",
      "Epoch 9/80\n",
      "7/7 [==============================] - 0s 2ms/step - loss: 9.8608\n",
      "Epoch 10/80\n",
      "7/7 [==============================] - 0s 1ms/step - loss: 9.2445\n",
      "Epoch 11/80\n",
      "7/7 [==============================] - 0s 1ms/step - loss: 9.4339\n",
      "Epoch 12/80\n",
      "7/7 [==============================] - 0s 1ms/step - loss: 9.1177\n",
      "Epoch 13/80\n",
      "7/7 [==============================] - 0s 1ms/step - loss: 8.7566\n",
      "Epoch 14/80\n",
      "7/7 [==============================] - 0s 1ms/step - loss: 8.4285\n",
      "Epoch 15/80\n",
      "7/7 [==============================] - 0s 1ms/step - loss: 8.5234\n",
      "Epoch 16/80\n",
      "7/7 [==============================] - 0s 1ms/step - loss: 8.6601\n",
      "Epoch 17/80\n",
      "7/7 [==============================] - 0s 1ms/step - loss: 8.0153\n",
      "Epoch 18/80\n",
      "7/7 [==============================] - 0s 1ms/step - loss: 7.9193\n",
      "Epoch 19/80\n",
      "7/7 [==============================] - 0s 1ms/step - loss: 7.9712\n",
      "Epoch 20/80\n",
      "7/7 [==============================] - 0s 1ms/step - loss: 7.6739\n",
      "Epoch 21/80\n",
      "7/7 [==============================] - 0s 1ms/step - loss: 7.4982\n",
      "Epoch 22/80\n",
      "7/7 [==============================] - 0s 1ms/step - loss: 7.3897\n",
      "Epoch 23/80\n",
      "7/7 [==============================] - 0s 2ms/step - loss: 7.6287\n",
      "Epoch 24/80\n",
      "7/7 [==============================] - 0s 2ms/step - loss: 7.9140\n",
      "Epoch 25/80\n",
      "7/7 [==============================] - 0s 1ms/step - loss: 7.2730\n",
      "Epoch 26/80\n",
      "7/7 [==============================] - 0s 997us/step - loss: 7.3231\n",
      "Epoch 27/80\n",
      "7/7 [==============================] - 0s 1ms/step - loss: 7.3175\n",
      "Epoch 28/80\n",
      "7/7 [==============================] - 0s 1ms/step - loss: 7.0544\n",
      "Epoch 29/80\n",
      "7/7 [==============================] - 0s 1ms/step - loss: 6.9521\n",
      "Epoch 30/80\n",
      "7/7 [==============================] - 0s 1ms/step - loss: 6.8179\n",
      "Epoch 31/80\n",
      "7/7 [==============================] - 0s 1ms/step - loss: 6.8692\n",
      "Epoch 32/80\n",
      "7/7 [==============================] - 0s 997us/step - loss: 6.6923\n",
      "Epoch 33/80\n",
      "7/7 [==============================] - 0s 1ms/step - loss: 6.8538\n",
      "Epoch 34/80\n",
      "7/7 [==============================] - 0s 1ms/step - loss: 6.8707\n",
      "Epoch 35/80\n",
      "7/7 [==============================] - 0s 1ms/step - loss: 6.5676\n",
      "Epoch 36/80\n",
      "7/7 [==============================] - 0s 1ms/step - loss: 6.7876\n",
      "Epoch 37/80\n",
      "7/7 [==============================] - 0s 1ms/step - loss: 6.5767\n",
      "Epoch 38/80\n",
      "7/7 [==============================] - 0s 1ms/step - loss: 6.4205\n",
      "Epoch 39/80\n",
      "7/7 [==============================] - 0s 1ms/step - loss: 6.4172\n",
      "Epoch 40/80\n",
      "7/7 [==============================] - 0s 1ms/step - loss: 6.4917\n",
      "Epoch 41/80\n",
      "7/7 [==============================] - 0s 1ms/step - loss: 6.1272\n",
      "Epoch 42/80\n",
      "7/7 [==============================] - 0s 1ms/step - loss: 6.4337\n",
      "Epoch 43/80\n",
      "7/7 [==============================] - 0s 2ms/step - loss: 6.1825\n",
      "Epoch 44/80\n",
      "7/7 [==============================] - 0s 1ms/step - loss: 6.0362\n",
      "Epoch 45/80\n",
      "7/7 [==============================] - 0s 1ms/step - loss: 5.9531\n",
      "Epoch 46/80\n",
      "7/7 [==============================] - 0s 1ms/step - loss: 5.9431\n",
      "Epoch 47/80\n",
      "7/7 [==============================] - 0s 1ms/step - loss: 6.0556\n",
      "Epoch 48/80\n",
      "7/7 [==============================] - 0s 972us/step - loss: 5.7321\n",
      "Epoch 49/80\n",
      "7/7 [==============================] - 0s 1ms/step - loss: 5.6395\n",
      "Epoch 50/80\n",
      "7/7 [==============================] - 0s 1ms/step - loss: 5.8121\n",
      "Epoch 51/80\n",
      "7/7 [==============================] - 0s 1ms/step - loss: 5.7662\n",
      "Epoch 52/80\n",
      "7/7 [==============================] - 0s 1ms/step - loss: 5.5702\n",
      "Epoch 53/80\n",
      "7/7 [==============================] - 0s 1ms/step - loss: 5.5709\n",
      "Epoch 54/80\n",
      "7/7 [==============================] - 0s 1ms/step - loss: 5.2982\n",
      "Epoch 55/80\n",
      "7/7 [==============================] - 0s 997us/step - loss: 5.5269\n",
      "Epoch 56/80\n",
      "7/7 [==============================] - 0s 1ms/step - loss: 5.2698\n",
      "Epoch 57/80\n",
      "7/7 [==============================] - 0s 1ms/step - loss: 5.2671\n",
      "Epoch 58/80\n",
      "7/7 [==============================] - 0s 2ms/step - loss: 5.1391\n",
      "Epoch 59/80\n",
      "7/7 [==============================] - 0s 2ms/step - loss: 5.2265\n",
      "Epoch 60/80\n",
      "7/7 [==============================] - 0s 2ms/step - loss: 5.0816\n",
      "Epoch 61/80\n",
      "7/7 [==============================] - 0s 1ms/step - loss: 5.1740\n",
      "Epoch 62/80\n",
      "7/7 [==============================] - 0s 1ms/step - loss: 5.0670\n",
      "Epoch 63/80\n",
      "7/7 [==============================] - 0s 1ms/step - loss: 5.1211\n",
      "Epoch 64/80\n",
      "7/7 [==============================] - 0s 1ms/step - loss: 5.2552\n",
      "Epoch 65/80\n",
      "7/7 [==============================] - 0s 1ms/step - loss: 4.8172\n",
      "Epoch 66/80\n",
      "7/7 [==============================] - 0s 1ms/step - loss: 5.0641\n",
      "Epoch 67/80\n",
      "7/7 [==============================] - 0s 1ms/step - loss: 4.9122\n",
      "Epoch 68/80\n",
      "7/7 [==============================] - 0s 1ms/step - loss: 4.6775\n",
      "Epoch 69/80\n",
      "7/7 [==============================] - 0s 1ms/step - loss: 4.6955\n",
      "Epoch 70/80\n",
      "7/7 [==============================] - 0s 1ms/step - loss: 4.3962\n",
      "Epoch 71/80\n",
      "7/7 [==============================] - 0s 1ms/step - loss: 4.5272\n",
      "Epoch 72/80\n",
      "7/7 [==============================] - 0s 1ms/step - loss: 4.5415\n",
      "Epoch 73/80\n",
      "7/7 [==============================] - 0s 1ms/step - loss: 4.4692\n",
      "Epoch 74/80\n",
      "7/7 [==============================] - 0s 997us/step - loss: 4.4830\n",
      "Epoch 75/80\n",
      "7/7 [==============================] - 0s 1ms/step - loss: 4.2595\n",
      "Epoch 76/80\n",
      "7/7 [==============================] - 0s 1ms/step - loss: 4.3355\n",
      "Epoch 77/80\n",
      "7/7 [==============================] - 0s 997us/step - loss: 4.2675\n",
      "Epoch 78/80\n",
      "7/7 [==============================] - 0s 1ms/step - loss: 4.4292\n",
      "Epoch 79/80\n",
      "7/7 [==============================] - 0s 1ms/step - loss: 4.1696\n",
      "Epoch 80/80\n",
      "7/7 [==============================] - 0s 1ms/step - loss: 4.2735\n"
     ]
    }
   ],
   "source": [
    "history = model.fit(train_data, train_targets, epochs=80, batch_size=64)"
   ]
  },
  {
   "cell_type": "markdown",
   "metadata": {},
   "source": [
    "## Loss 값 변화 살펴보기"
   ]
  },
  {
   "cell_type": "code",
   "execution_count": 21,
   "metadata": {},
   "outputs": [],
   "source": [
    "import matplotlib.pyplot as plt"
   ]
  },
  {
   "cell_type": "code",
   "execution_count": 22,
   "metadata": {},
   "outputs": [
    {
     "data": {
      "image/png": "[encoded data removed]",
      "text/plain": [
       "<Figure size 640x480 with 1 Axes>"
      ]
     },
     "metadata": {},
     "output_type": "display_data"
    }
   ],
   "source": [
    "plt.plot(history.history['loss'])\n",
    "plt.xlabel('epoch')\n",
    "plt.ylabel('loss')\n",
    "plt.legend(['train'])\n",
    "plt.show()"
   ]
  },
  {
   "cell_type": "markdown",
   "metadata": {},
   "source": [
    "# 성능 평가하기"
   ]
  },
  {
   "cell_type": "code",
   "execution_count": 23,
   "metadata": {},
   "outputs": [
    {
     "data": {
      "text/plain": [
       "(102, 13)"
      ]
     },
     "execution_count": 23,
     "metadata": {},
     "output_type": "execute_result"
    }
   ],
   "source": [
    "test_data.shape"
   ]
  },
  {
   "cell_type": "code",
   "execution_count": 24,
   "metadata": {},
   "outputs": [
    {
     "name": "stdout",
     "output_type": "stream",
     "text": [
      "4/4 [==============================] - 0s 1ms/step\n"
     ]
    }
   ],
   "source": [
    "y_pred = model.predict(test_data)"
   ]
  },
  {
   "cell_type": "code",
   "execution_count": 25,
   "metadata": {},
   "outputs": [
    {
     "data": {
      "text/plain": [
       "3.586213830380093"
      ]
     },
     "execution_count": 25,
     "metadata": {},
     "output_type": "execute_result"
    }
   ],
   "source": [
    "from sklearn.metrics import mean_squared_error\n",
    "mean_squared_error(test_targets, y_pred)**0.5"
   ]
  },
  {
   "cell_type": "code",
   "execution_count": 26,
   "metadata": {},
   "outputs": [
    {
     "data": {
      "text/plain": [
       "0.8455029426690862"
      ]
     },
     "execution_count": 26,
     "metadata": {},
     "output_type": "execute_result"
    }
   ],
   "source": [
    "from sklearn.metrics import r2_score\n",
    "r2_score(test_targets, y_pred)"
   ]
  },
  {
   "cell_type": "code",
   "execution_count": null,
   "metadata": {},
   "outputs": [],
   "source": []
  },
  {
   "cell_type": "code",
   "execution_count": null,
   "metadata": {},
   "outputs": [],
   "source": []
  }
 ],
 "metadata": {
  "kernelspec": {
   "display_name": "Python 3 (ipykernel)",
   "language": "python",
   "name": "python3"
  },
  "language_info": {
   "codemirror_mode": {
    "name": "ipython",
    "version": 3
   },
   "file_extension": ".py",
   "mimetype": "text/x-python",
   "name": "python",
   "nbconvert_exporter": "python",
   "pygments_lexer": "ipython3",
   "version": "3.8.5"
  }
 },
 "nbformat": 4,
 "nbformat_minor": 2
}
