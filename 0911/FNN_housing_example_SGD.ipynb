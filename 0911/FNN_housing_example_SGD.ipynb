{
 "cells": [
  {
   "cell_type": "code",
   "execution_count": 1,
   "metadata": {},
   "outputs": [],
   "source": [
    "import warnings\n",
    "warnings.filterwarnings('ignore')"
   ]
  },
  {
   "cell_type": "code",
   "execution_count": 2,
   "metadata": {},
   "outputs": [],
   "source": [
    "import numpy as np\n",
    "np.set_printoptions(suppress=True)"
   ]
  },
  {
   "cell_type": "code",
   "execution_count": 3,
   "metadata": {},
   "outputs": [],
   "source": [
    "import tensorflow as tf\n",
    "from tensorflow import keras"
   ]
  },
  {
   "cell_type": "code",
   "execution_count": 4,
   "metadata": {},
   "outputs": [],
   "source": [
    "(train_data, train_targets), (test_data, test_targets) = keras.datasets.boston_housing.load_data()"
   ]
  },
  {
   "cell_type": "code",
   "execution_count": 5,
   "metadata": {},
   "outputs": [
    {
     "data": {
      "text/plain": [
       "(404, 13)"
      ]
     },
     "execution_count": 5,
     "metadata": {},
     "output_type": "execute_result"
    }
   ],
   "source": [
    "train_data.shape #(레코드 수, 독립변수 수)"
   ]
  },
  {
   "cell_type": "code",
   "execution_count": 6,
   "metadata": {},
   "outputs": [
    {
     "data": {
      "text/plain": [
       "(404,)"
      ]
     },
     "execution_count": 6,
     "metadata": {},
     "output_type": "execute_result"
    }
   ],
   "source": [
    "train_targets.shape"
   ]
  },
  {
   "cell_type": "markdown",
   "metadata": {},
   "source": [
    "404개의 data points <br>\n",
    "13개의 독립변수"
   ]
  },
  {
   "cell_type": "code",
   "execution_count": 7,
   "metadata": {},
   "outputs": [
    {
     "data": {
      "text/plain": [
       "array([  1.23247,   0.     ,   8.14   ,   0.     ,   0.538  ,   6.142  ,\n",
       "        91.7    ,   3.9769 ,   4.     , 307.     ,  21.     , 396.9    ,\n",
       "        18.72   ])"
      ]
     },
     "execution_count": 7,
     "metadata": {},
     "output_type": "execute_result"
    }
   ],
   "source": [
    "train_data[0]"
   ]
  },
  {
   "cell_type": "code",
   "execution_count": 8,
   "metadata": {},
   "outputs": [
    {
     "data": {
      "text/plain": [
       "array([15.2, 42.3, 50. , 21.1, 17.7])"
      ]
     },
     "execution_count": 8,
     "metadata": {},
     "output_type": "execute_result"
    }
   ],
   "source": [
    "train_targets[:5]"
   ]
  },
  {
   "cell_type": "markdown",
   "metadata": {},
   "source": [
    "종속변수는 미국 Boston에 속한 도시들의 70년대 중반 집들의 중간값 <br>\n",
    "data point는 도시 <br>\n",
    "독립변수는 범죄율, 교통 편의성 등 <br>\n",
    "10 = > $ 10K"
   ]
  },
  {
   "cell_type": "code",
   "execution_count": 7,
   "metadata": {},
   "outputs": [],
   "source": [
    "# 데이터 정규화 ((x-mean)/std)\n",
    "mean = train_data.mean(axis=0)\n",
    "train_data -= mean\n",
    "std = train_data.std(axis=0)\n",
    "train_data /= std\n",
    "test_data -= mean\n",
    "test_data /= std"
   ]
  },
  {
   "cell_type": "code",
   "execution_count": 8,
   "metadata": {},
   "outputs": [],
   "source": [
    "from tensorflow.keras import models\n",
    "from tensorflow.keras import layers"
   ]
  },
  {
   "cell_type": "code",
   "execution_count": 9,
   "metadata": {},
   "outputs": [
    {
     "data": {
      "text/plain": [
       "(404, 13)"
      ]
     },
     "execution_count": 9,
     "metadata": {},
     "output_type": "execute_result"
    }
   ],
   "source": [
    "train_data.shape"
   ]
  },
  {
   "cell_type": "code",
   "execution_count": 10,
   "metadata": {},
   "outputs": [],
   "source": [
    "model = models.Sequential()"
   ]
  },
  {
   "cell_type": "code",
   "execution_count": 11,
   "metadata": {},
   "outputs": [],
   "source": [
    "model.add(layers.Dense(64, activation = 'relu', kernel_initializer = 'glorot_uniform', input_shape=(train_data.shape[1],)))\n",
    "#kernel_initaializer(가중치초기화방법): glorot_uniform (Xavier 방법)"
   ]
  },
  {
   "cell_type": "code",
   "execution_count": 14,
   "metadata": {},
   "outputs": [],
   "source": [
    "model.add(layers.Dense(64, activation = 'relu', kernel_initializer = 'glorot_uniform'))"
   ]
  },
  {
   "cell_type": "code",
   "execution_count": 15,
   "metadata": {},
   "outputs": [],
   "source": [
    "model.add(layers.Dense(1))"
   ]
  },
  {
   "cell_type": "code",
   "execution_count": 16,
   "metadata": {},
   "outputs": [
    {
     "name": "stdout",
     "output_type": "stream",
     "text": [
      "Model: \"sequential\"\n",
      "_________________________________________________________________\n",
      " Layer (type)                Output Shape              Param #   \n",
      "=================================================================\n",
      " dense (Dense)               (None, 64)                896       \n",
      "                                                                 \n",
      " dense_1 (Dense)             (None, 64)                4160      \n",
      "                                                                 \n",
      " dense_2 (Dense)             (None, 1)                 65        \n",
      "                                                                 \n",
      "=================================================================\n",
      "Total params: 5,121\n",
      "Trainable params: 5,121\n",
      "Non-trainable params: 0\n",
      "_________________________________________________________________\n"
     ]
    }
   ],
   "source": [
    "model.summary()"
   ]
  },
  {
   "cell_type": "code",
   "execution_count": 17,
   "metadata": {},
   "outputs": [
    {
     "data": {
      "image/svg+xml": [
       "<svg xmlns=\"http://www.w3.org/2000/svg\" xmlns:xlink=\"http://www.w3.org/1999/xlink\" width=\"211pt\" height=\"274pt\" viewBox=\"0.00 0.00 234.00 304.00\">\n",
       "<g id=\"graph0\" class=\"graph\" transform=\"scale(0.9 0.9) rotate(0) translate(4 300)\">\n",
       "<title>G</title>\n",
       "<polygon fill=\"white\" stroke=\"transparent\" points=\"-4,4 -4,-300 230,-300 230,4 -4,4\"/>\n",
       "<!-- 2746894262864 -->\n",
       "<g id=\"node1\" class=\"node\">\n",
       "<title>2746894262864</title>\n",
       "<polygon fill=\"none\" stroke=\"black\" points=\"0,-249.5 0,-295.5 226,-295.5 226,-249.5 0,-249.5\"/>\n",
       "<text text-anchor=\"middle\" x=\"42\" y=\"-280.3\" font-family=\"Times New Roman,serif\" font-size=\"14.00\">dense_input</text>\n",
       "<polyline fill=\"none\" stroke=\"black\" points=\"0,-272.5 84,-272.5 \"/>\n",
       "<text text-anchor=\"middle\" x=\"42\" y=\"-257.3\" font-family=\"Times New Roman,serif\" font-size=\"14.00\">InputLayer</text>\n",
       "<polyline fill=\"none\" stroke=\"black\" points=\"84,-249.5 84,-295.5 \"/>\n",
       "<text text-anchor=\"middle\" x=\"112\" y=\"-280.3\" font-family=\"Times New Roman,serif\" font-size=\"14.00\">input:</text>\n",
       "<polyline fill=\"none\" stroke=\"black\" points=\"84,-272.5 140,-272.5 \"/>\n",
       "<text text-anchor=\"middle\" x=\"112\" y=\"-257.3\" font-family=\"Times New Roman,serif\" font-size=\"14.00\">output:</text>\n",
       "<polyline fill=\"none\" stroke=\"black\" points=\"140,-249.5 140,-295.5 \"/>\n",
       "<text text-anchor=\"middle\" x=\"183\" y=\"-280.3\" font-family=\"Times New Roman,serif\" font-size=\"14.00\">[(None, 13)]</text>\n",
       "<polyline fill=\"none\" stroke=\"black\" points=\"140,-272.5 226,-272.5 \"/>\n",
       "<text text-anchor=\"middle\" x=\"183\" y=\"-257.3\" font-family=\"Times New Roman,serif\" font-size=\"14.00\">[(None, 13)]</text>\n",
       "</g>\n",
       "<!-- 2746894262912 -->\n",
       "<g id=\"node2\" class=\"node\">\n",
       "<title>2746894262912</title>\n",
       "<polygon fill=\"none\" stroke=\"black\" points=\"21,-166.5 21,-212.5 205,-212.5 205,-166.5 21,-166.5\"/>\n",
       "<text text-anchor=\"middle\" x=\"46.5\" y=\"-197.3\" font-family=\"Times New Roman,serif\" font-size=\"14.00\">dense</text>\n",
       "<polyline fill=\"none\" stroke=\"black\" points=\"21,-189.5 72,-189.5 \"/>\n",
       "<text text-anchor=\"middle\" x=\"46.5\" y=\"-174.3\" font-family=\"Times New Roman,serif\" font-size=\"14.00\">Dense</text>\n",
       "<polyline fill=\"none\" stroke=\"black\" points=\"72,-166.5 72,-212.5 \"/>\n",
       "<text text-anchor=\"middle\" x=\"100\" y=\"-197.3\" font-family=\"Times New Roman,serif\" font-size=\"14.00\">input:</text>\n",
       "<polyline fill=\"none\" stroke=\"black\" points=\"72,-189.5 128,-189.5 \"/>\n",
       "<text text-anchor=\"middle\" x=\"100\" y=\"-174.3\" font-family=\"Times New Roman,serif\" font-size=\"14.00\">output:</text>\n",
       "<polyline fill=\"none\" stroke=\"black\" points=\"128,-166.5 128,-212.5 \"/>\n",
       "<text text-anchor=\"middle\" x=\"166.5\" y=\"-197.3\" font-family=\"Times New Roman,serif\" font-size=\"14.00\">(None, 13)</text>\n",
       "<polyline fill=\"none\" stroke=\"black\" points=\"128,-189.5 205,-189.5 \"/>\n",
       "<text text-anchor=\"middle\" x=\"166.5\" y=\"-174.3\" font-family=\"Times New Roman,serif\" font-size=\"14.00\">(None, 64)</text>\n",
       "</g>\n",
       "<!-- 2746894262864&#45;&gt;2746894262912 -->\n",
       "<g id=\"edge1\" class=\"edge\">\n",
       "<title>2746894262864-&gt;2746894262912</title>\n",
       "<path fill=\"none\" stroke=\"black\" d=\"M113,-249.37C113,-241.15 113,-231.66 113,-222.73\"/>\n",
       "<polygon fill=\"black\" stroke=\"black\" points=\"116.5,-222.61 113,-212.61 109.5,-222.61 116.5,-222.61\"/>\n",
       "</g>\n",
       "<!-- 2746895008480 -->\n",
       "<g id=\"node3\" class=\"node\">\n",
       "<title>2746895008480</title>\n",
       "<polygon fill=\"none\" stroke=\"black\" points=\"15,-83.5 15,-129.5 211,-129.5 211,-83.5 15,-83.5\"/>\n",
       "<text text-anchor=\"middle\" x=\"46.5\" y=\"-114.3\" font-family=\"Times New Roman,serif\" font-size=\"14.00\">dense_1</text>\n",
       "<polyline fill=\"none\" stroke=\"black\" points=\"15,-106.5 78,-106.5 \"/>\n",
       "<text text-anchor=\"middle\" x=\"46.5\" y=\"-91.3\" font-family=\"Times New Roman,serif\" font-size=\"14.00\">Dense</text>\n",
       "<polyline fill=\"none\" stroke=\"black\" points=\"78,-83.5 78,-129.5 \"/>\n",
       "<text text-anchor=\"middle\" x=\"106\" y=\"-114.3\" font-family=\"Times New Roman,serif\" font-size=\"14.00\">input:</text>\n",
       "<polyline fill=\"none\" stroke=\"black\" points=\"78,-106.5 134,-106.5 \"/>\n",
       "<text text-anchor=\"middle\" x=\"106\" y=\"-91.3\" font-family=\"Times New Roman,serif\" font-size=\"14.00\">output:</text>\n",
       "<polyline fill=\"none\" stroke=\"black\" points=\"134,-83.5 134,-129.5 \"/>\n",
       "<text text-anchor=\"middle\" x=\"172.5\" y=\"-114.3\" font-family=\"Times New Roman,serif\" font-size=\"14.00\">(None, 64)</text>\n",
       "<polyline fill=\"none\" stroke=\"black\" points=\"134,-106.5 211,-106.5 \"/>\n",
       "<text text-anchor=\"middle\" x=\"172.5\" y=\"-91.3\" font-family=\"Times New Roman,serif\" font-size=\"14.00\">(None, 64)</text>\n",
       "</g>\n",
       "<!-- 2746894262912&#45;&gt;2746895008480 -->\n",
       "<g id=\"edge2\" class=\"edge\">\n",
       "<title>2746894262912-&gt;2746895008480</title>\n",
       "<path fill=\"none\" stroke=\"black\" d=\"M113,-166.37C113,-158.15 113,-148.66 113,-139.73\"/>\n",
       "<polygon fill=\"black\" stroke=\"black\" points=\"116.5,-139.61 113,-129.61 109.5,-139.61 116.5,-139.61\"/>\n",
       "</g>\n",
       "<!-- 2746849154720 -->\n",
       "<g id=\"node4\" class=\"node\">\n",
       "<title>2746849154720</title>\n",
       "<polygon fill=\"none\" stroke=\"black\" points=\"15,-0.5 15,-46.5 211,-46.5 211,-0.5 15,-0.5\"/>\n",
       "<text text-anchor=\"middle\" x=\"46.5\" y=\"-31.3\" font-family=\"Times New Roman,serif\" font-size=\"14.00\">dense_2</text>\n",
       "<polyline fill=\"none\" stroke=\"black\" points=\"15,-23.5 78,-23.5 \"/>\n",
       "<text text-anchor=\"middle\" x=\"46.5\" y=\"-8.3\" font-family=\"Times New Roman,serif\" font-size=\"14.00\">Dense</text>\n",
       "<polyline fill=\"none\" stroke=\"black\" points=\"78,-0.5 78,-46.5 \"/>\n",
       "<text text-anchor=\"middle\" x=\"106\" y=\"-31.3\" font-family=\"Times New Roman,serif\" font-size=\"14.00\">input:</text>\n",
       "<polyline fill=\"none\" stroke=\"black\" points=\"78,-23.5 134,-23.5 \"/>\n",
       "<text text-anchor=\"middle\" x=\"106\" y=\"-8.3\" font-family=\"Times New Roman,serif\" font-size=\"14.00\">output:</text>\n",
       "<polyline fill=\"none\" stroke=\"black\" points=\"134,-0.5 134,-46.5 \"/>\n",
       "<text text-anchor=\"middle\" x=\"172.5\" y=\"-31.3\" font-family=\"Times New Roman,serif\" font-size=\"14.00\">(None, 64)</text>\n",
       "<polyline fill=\"none\" stroke=\"black\" points=\"134,-23.5 211,-23.5 \"/>\n",
       "<text text-anchor=\"middle\" x=\"172.5\" y=\"-8.3\" font-family=\"Times New Roman,serif\" font-size=\"14.00\">(None, 1)</text>\n",
       "</g>\n",
       "<!-- 2746895008480&#45;&gt;2746849154720 -->\n",
       "<g id=\"edge3\" class=\"edge\">\n",
       "<title>2746895008480-&gt;2746849154720</title>\n",
       "<path fill=\"none\" stroke=\"black\" d=\"M113,-83.37C113,-75.15 113,-65.66 113,-56.73\"/>\n",
       "<polygon fill=\"black\" stroke=\"black\" points=\"116.5,-56.61 113,-46.61 109.5,-56.61 116.5,-56.61\"/>\n",
       "</g>\n",
       "</g>\n",
       "</svg>"
      ],
      "text/plain": [
       "<IPython.core.display.SVG object>"
      ]
     },
     "execution_count": 17,
     "metadata": {},
     "output_type": "execute_result"
    }
   ],
   "source": [
    "from IPython.display import SVG\n",
    "from keras.utils.vis_utils import model_to_dot\n",
    "SVG(model_to_dot(model, show_shapes= True, show_layer_names=True, dpi=65).create(prog='dot', format='svg'))\n",
    "\n",
    "#input: 입력되는 데이터의 형태, output: 출력되는 데이터의 형태 -> 13개의 피쳐를 받아 64개의 피쳐로 출력함\n",
    "#한번 학습할 때 몇 개의 레코드를 사용하는 지 몰라 None으로 표기됨, 나중에 배치사이즈=64 -> None 대신 64를 넣어 계산함"
   ]
  },
  {
   "cell_type": "markdown",
   "metadata": {},
   "source": [
    "SGD optimizer 사용하기"
   ]
  },
  {
   "cell_type": "code",
   "execution_count": 12,
   "metadata": {},
   "outputs": [],
   "source": [
    "sgd= tf.keras.optimizers.SGD(learning_rate=0.001, momentum=0.9, nesterov=True)\n",
    "# 모멘텀: defalut 0, 모멘텀 식에서의 감마 값, 대부분 0.9 사용\n",
    "# nesterov: True -> 일반 모멘텀 대신 nesterov momentum을 사용하겠다"
   ]
  },
  {
   "cell_type": "code",
   "execution_count": 13,
   "metadata": {},
   "outputs": [],
   "source": [
    "model.compile(optimizer=sgd, loss='mse')"
   ]
  },
  {
   "cell_type": "code",
   "execution_count": 14,
   "metadata": {
    "scrolled": true
   },
   "outputs": [
    {
     "name": "stdout",
     "output_type": "stream",
     "text": [
      "Epoch 1/80\n",
      "7/7 [==============================] - 1s 5ms/step - loss: 575.9310\n",
      "Epoch 2/80\n",
      "7/7 [==============================] - 0s 5ms/step - loss: 574.9339\n",
      "Epoch 3/80\n",
      "7/7 [==============================] - 0s 8ms/step - loss: 573.4284\n",
      "Epoch 4/80\n",
      "7/7 [==============================] - 0s 9ms/step - loss: 571.5175\n",
      "Epoch 5/80\n",
      "7/7 [==============================] - 0s 11ms/step - loss: 569.3824\n",
      "Epoch 6/80\n",
      "7/7 [==============================] - 0s 8ms/step - loss: 567.0696\n",
      "Epoch 7/80\n",
      "7/7 [==============================] - 0s 9ms/step - loss: 564.6589\n",
      "Epoch 8/80\n",
      "7/7 [==============================] - 0s 4ms/step - loss: 562.1157\n",
      "Epoch 9/80\n",
      "7/7 [==============================] - 0s 8ms/step - loss: 559.4473\n",
      "Epoch 10/80\n",
      "7/7 [==============================] - 0s 8ms/step - loss: 556.7549\n",
      "Epoch 11/80\n",
      "7/7 [==============================] - 0s 8ms/step - loss: 554.0062\n",
      "Epoch 12/80\n",
      "7/7 [==============================] - 0s 11ms/step - loss: 551.2534\n",
      "Epoch 13/80\n",
      "7/7 [==============================] - 0s 8ms/step - loss: 548.4462\n",
      "Epoch 14/80\n",
      "7/7 [==============================] - 0s 8ms/step - loss: 545.5887\n",
      "Epoch 15/80\n",
      "7/7 [==============================] - 0s 9ms/step - loss: 542.7538\n",
      "Epoch 16/80\n",
      "7/7 [==============================] - 0s 6ms/step - loss: 539.8900\n",
      "Epoch 17/80\n",
      "7/7 [==============================] - 0s 8ms/step - loss: 537.0450\n",
      "Epoch 18/80\n",
      "7/7 [==============================] - 0s 15ms/step - loss: 534.1458\n",
      "Epoch 19/80\n",
      "7/7 [==============================] - 0s 4ms/step - loss: 531.2462\n",
      "Epoch 20/80\n",
      "7/7 [==============================] - 0s 3ms/step - loss: 528.4283\n",
      "Epoch 21/80\n",
      "7/7 [==============================] - 0s 4ms/step - loss: 525.5601\n",
      "Epoch 22/80\n",
      "7/7 [==============================] - 0s 5ms/step - loss: 522.6795\n",
      "Epoch 23/80\n",
      "7/7 [==============================] - 0s 4ms/step - loss: 519.8575\n",
      "Epoch 24/80\n",
      "7/7 [==============================] - 0s 4ms/step - loss: 517.0655\n",
      "Epoch 25/80\n",
      "7/7 [==============================] - 0s 5ms/step - loss: 514.2363\n",
      "Epoch 26/80\n",
      "7/7 [==============================] - 0s 5ms/step - loss: 511.4467\n",
      "Epoch 27/80\n",
      "7/7 [==============================] - 0s 5ms/step - loss: 508.6780\n",
      "Epoch 28/80\n",
      "7/7 [==============================] - 0s 2ms/step - loss: 505.9070\n",
      "Epoch 29/80\n",
      "7/7 [==============================] - 0s 3ms/step - loss: 503.1951\n",
      "Epoch 30/80\n",
      "7/7 [==============================] - 0s 4ms/step - loss: 500.5221\n",
      "Epoch 31/80\n",
      "7/7 [==============================] - 0s 4ms/step - loss: 497.8322\n",
      "Epoch 32/80\n",
      "7/7 [==============================] - 0s 4ms/step - loss: 495.1856\n",
      "Epoch 33/80\n",
      "7/7 [==============================] - 0s 6ms/step - loss: 492.4995\n",
      "Epoch 34/80\n",
      "7/7 [==============================] - 0s 8ms/step - loss: 489.9216\n",
      "Epoch 35/80\n",
      "7/7 [==============================] - 0s 6ms/step - loss: 487.3319\n",
      "Epoch 36/80\n",
      "7/7 [==============================] - 0s 5ms/step - loss: 484.7610\n",
      "Epoch 37/80\n",
      "7/7 [==============================] - 0s 6ms/step - loss: 482.2499\n",
      "Epoch 38/80\n",
      "7/7 [==============================] - 0s 7ms/step - loss: 479.7559\n",
      "Epoch 39/80\n",
      "7/7 [==============================] - 0s 5ms/step - loss: 477.2202\n",
      "Epoch 40/80\n",
      "7/7 [==============================] - 0s 5ms/step - loss: 474.7734\n",
      "Epoch 41/80\n",
      "7/7 [==============================] - 0s 8ms/step - loss: 472.2680\n",
      "Epoch 42/80\n",
      "7/7 [==============================] - 0s 5ms/step - loss: 469.8365\n",
      "Epoch 43/80\n",
      "7/7 [==============================] - 0s 14ms/step - loss: 467.3727\n",
      "Epoch 44/80\n",
      "7/7 [==============================] - 0s 8ms/step - loss: 464.9307\n",
      "Epoch 45/80\n",
      "7/7 [==============================] - 0s 8ms/step - loss: 462.5169\n",
      "Epoch 46/80\n",
      "7/7 [==============================] - 0s 8ms/step - loss: 460.1577\n",
      "Epoch 47/80\n",
      "7/7 [==============================] - 0s 11ms/step - loss: 457.8573\n",
      "Epoch 48/80\n",
      "7/7 [==============================] - 0s 8ms/step - loss: 455.6430\n",
      "Epoch 49/80\n",
      "7/7 [==============================] - 0s 6ms/step - loss: 453.3893\n",
      "Epoch 50/80\n",
      "7/7 [==============================] - 0s 6ms/step - loss: 451.2522\n",
      "Epoch 51/80\n",
      "7/7 [==============================] - 0s 5ms/step - loss: 449.1405\n",
      "Epoch 52/80\n",
      "7/7 [==============================] - 0s 5ms/step - loss: 446.9523\n",
      "Epoch 53/80\n",
      "7/7 [==============================] - 0s 5ms/step - loss: 444.8734\n",
      "Epoch 54/80\n",
      "7/7 [==============================] - 0s 6ms/step - loss: 442.7668\n",
      "Epoch 55/80\n",
      "7/7 [==============================] - 0s 5ms/step - loss: 440.6710\n",
      "Epoch 56/80\n",
      "7/7 [==============================] - 0s 6ms/step - loss: 438.5757\n",
      "Epoch 57/80\n",
      "7/7 [==============================] - 0s 6ms/step - loss: 436.5649\n",
      "Epoch 58/80\n",
      "7/7 [==============================] - 0s 7ms/step - loss: 434.4522\n",
      "Epoch 59/80\n",
      "7/7 [==============================] - 0s 5ms/step - loss: 432.4138\n",
      "Epoch 60/80\n",
      "7/7 [==============================] - 0s 5ms/step - loss: 430.4235\n",
      "Epoch 61/80\n",
      "7/7 [==============================] - 0s 6ms/step - loss: 428.4551\n",
      "Epoch 62/80\n",
      "7/7 [==============================] - 0s 6ms/step - loss: 426.5133\n",
      "Epoch 63/80\n",
      "7/7 [==============================] - 0s 12ms/step - loss: 424.6040\n",
      "Epoch 64/80\n",
      "7/7 [==============================] - 0s 13ms/step - loss: 422.6851\n",
      "Epoch 65/80\n",
      "7/7 [==============================] - 0s 10ms/step - loss: 420.7960\n",
      "Epoch 66/80\n",
      "7/7 [==============================] - 0s 11ms/step - loss: 418.8622\n",
      "Epoch 67/80\n",
      "7/7 [==============================] - 0s 11ms/step - loss: 417.0518\n",
      "Epoch 68/80\n",
      "7/7 [==============================] - 0s 7ms/step - loss: 415.1535\n",
      "Epoch 69/80\n",
      "7/7 [==============================] - 0s 5ms/step - loss: 413.3661\n",
      "Epoch 70/80\n",
      "7/7 [==============================] - 0s 4ms/step - loss: 411.5829\n",
      "Epoch 71/80\n",
      "7/7 [==============================] - 0s 5ms/step - loss: 409.7867\n",
      "Epoch 72/80\n",
      "7/7 [==============================] - 0s 7ms/step - loss: 408.0227\n",
      "Epoch 73/80\n",
      "7/7 [==============================] - 0s 5ms/step - loss: 406.3165\n",
      "Epoch 74/80\n",
      "7/7 [==============================] - 0s 5ms/step - loss: 404.5369\n",
      "Epoch 75/80\n",
      "7/7 [==============================] - 0s 8ms/step - loss: 402.8683\n",
      "Epoch 76/80\n",
      "7/7 [==============================] - 0s 7ms/step - loss: 401.1615\n",
      "Epoch 77/80\n",
      "7/7 [==============================] - 0s 6ms/step - loss: 399.4445\n",
      "Epoch 78/80\n",
      "7/7 [==============================] - 0s 6ms/step - loss: 397.7626\n",
      "Epoch 79/80\n",
      "7/7 [==============================] - 0s 5ms/step - loss: 396.1552\n",
      "Epoch 80/80\n",
      "7/7 [==============================] - 0s 7ms/step - loss: 394.4825\n"
     ]
    }
   ],
   "source": [
    "history = model.fit(train_data, train_targets, epochs=80, batch_size=64)\n",
    "# 미니배치사이즈=64, 보통 2의 제곱수를 사용함\n",
    "# 학습데이터 전체 404개, 미니배치 64개 -> 1 epoch 당 7번 (404/64=6.xxx) 업데이트 -> 아래 7/7이 이 의미임\n",
    "# epoch: 전체 학습 데이터를 몇 번 사용할 것인지"
   ]
  },
  {
   "cell_type": "markdown",
   "metadata": {},
   "source": [
    "## Loss 값 변화 살펴보기"
   ]
  },
  {
   "cell_type": "code",
   "execution_count": 15,
   "metadata": {},
   "outputs": [],
   "source": [
    "import matplotlib.pyplot as plt"
   ]
  },
  {
   "cell_type": "code",
   "execution_count": 20,
   "metadata": {},
   "outputs": [
    {
     "data": {
      "image/png": "[encoded data removed]",
      "text/plain": [
       "<Figure size 640x480 with 1 Axes>"
      ]
     },
     "metadata": {},
     "output_type": "display_data"
    }
   ],
   "source": [
    "plt.plot(history.history['loss'])\n",
    "plt.xlabel('epoch')\n",
    "plt.ylabel('loss')\n",
    "plt.legend(['train'])\n",
    "plt.show()"
   ]
  },
  {
   "cell_type": "markdown",
   "metadata": {},
   "source": [
    "# 성능 평가하기"
   ]
  },
  {
   "cell_type": "code",
   "execution_count": 23,
   "metadata": {},
   "outputs": [
    {
     "data": {
      "text/plain": [
       "(102, 13)"
      ]
     },
     "execution_count": 23,
     "metadata": {},
     "output_type": "execute_result"
    }
   ],
   "source": [
    "test_data.shape"
   ]
  },
  {
   "cell_type": "code",
   "execution_count": 27,
   "metadata": {},
   "outputs": [
    {
     "name": "stdout",
     "output_type": "stream",
     "text": [
      "4/4 [==============================] - 0s 3ms/step\n"
     ]
    }
   ],
   "source": [
    "y_pred = model.predict(test_data)"
   ]
  },
  {
   "cell_type": "code",
   "execution_count": 29,
   "metadata": {},
   "outputs": [
    {
     "ename": "ValueError",
     "evalue": "y_true and y_pred have different number of output (1!=64)",
     "output_type": "error",
     "traceback": [
      "\u001b[1;31m---------------------------------------------------------------------------\u001b[0m",
      "\u001b[1;31mValueError\u001b[0m                                Traceback (most recent call last)",
      "\u001b[1;32mc:\\Users\\김민정\\python_workspace\\20232_DL\\0911\\FNN_housing_example_SGD.ipynb Cell 30\u001b[0m line \u001b[0;36m2\n\u001b[0;32m      <a href='vscode-notebook-cell:/c%3A/Users/%EA%B9%80%EB%AF%BC%EC%A0%95/python_workspace/20232_DL/0911/FNN_housing_example_SGD.ipynb#X41sZmlsZQ%3D%3D?line=0'>1</a>\u001b[0m \u001b[39mfrom\u001b[39;00m \u001b[39msklearn\u001b[39;00m\u001b[39m.\u001b[39;00m\u001b[39mmetrics\u001b[39;00m \u001b[39mimport\u001b[39;00m mean_squared_error\n\u001b[1;32m----> <a href='vscode-notebook-cell:/c%3A/Users/%EA%B9%80%EB%AF%BC%EC%A0%95/python_workspace/20232_DL/0911/FNN_housing_example_SGD.ipynb#X41sZmlsZQ%3D%3D?line=1'>2</a>\u001b[0m mean_squared_error(test_targets, y_pred)\u001b[39m*\u001b[39m\u001b[39m*\u001b[39m\u001b[39m0.5\u001b[39m\n",
      "File \u001b[1;32mc:\\Anaconda3\\envs\\myYonlu\\lib\\site-packages\\sklearn\\utils\\_param_validation.py:211\u001b[0m, in \u001b[0;36mvalidate_params.<locals>.decorator.<locals>.wrapper\u001b[1;34m(*args, **kwargs)\u001b[0m\n\u001b[0;32m    205\u001b[0m \u001b[39mtry\u001b[39;00m:\n\u001b[0;32m    206\u001b[0m     \u001b[39mwith\u001b[39;00m config_context(\n\u001b[0;32m    207\u001b[0m         skip_parameter_validation\u001b[39m=\u001b[39m(\n\u001b[0;32m    208\u001b[0m             prefer_skip_nested_validation \u001b[39mor\u001b[39;00m global_skip_validation\n\u001b[0;32m    209\u001b[0m         )\n\u001b[0;32m    210\u001b[0m     ):\n\u001b[1;32m--> 211\u001b[0m         \u001b[39mreturn\u001b[39;00m func(\u001b[39m*\u001b[39;49margs, \u001b[39m*\u001b[39;49m\u001b[39m*\u001b[39;49mkwargs)\n\u001b[0;32m    212\u001b[0m \u001b[39mexcept\u001b[39;00m InvalidParameterError \u001b[39mas\u001b[39;00m e:\n\u001b[0;32m    213\u001b[0m     \u001b[39m# When the function is just a wrapper around an estimator, we allow\u001b[39;00m\n\u001b[0;32m    214\u001b[0m     \u001b[39m# the function to delegate validation to the estimator, but we replace\u001b[39;00m\n\u001b[0;32m    215\u001b[0m     \u001b[39m# the name of the estimator by the name of the function in the error\u001b[39;00m\n\u001b[0;32m    216\u001b[0m     \u001b[39m# message to avoid confusion.\u001b[39;00m\n\u001b[0;32m    217\u001b[0m     msg \u001b[39m=\u001b[39m re\u001b[39m.\u001b[39msub(\n\u001b[0;32m    218\u001b[0m         \u001b[39mr\u001b[39m\u001b[39m\"\u001b[39m\u001b[39mparameter of \u001b[39m\u001b[39m\\\u001b[39m\u001b[39mw+ must be\u001b[39m\u001b[39m\"\u001b[39m,\n\u001b[0;32m    219\u001b[0m         \u001b[39mf\u001b[39m\u001b[39m\"\u001b[39m\u001b[39mparameter of \u001b[39m\u001b[39m{\u001b[39;00mfunc\u001b[39m.\u001b[39m\u001b[39m__qualname__\u001b[39m\u001b[39m}\u001b[39;00m\u001b[39m must be\u001b[39m\u001b[39m\"\u001b[39m,\n\u001b[0;32m    220\u001b[0m         \u001b[39mstr\u001b[39m(e),\n\u001b[0;32m    221\u001b[0m     )\n",
      "File \u001b[1;32mc:\\Anaconda3\\envs\\myYonlu\\lib\\site-packages\\sklearn\\metrics\\_regression.py:474\u001b[0m, in \u001b[0;36mmean_squared_error\u001b[1;34m(y_true, y_pred, sample_weight, multioutput, squared)\u001b[0m\n\u001b[0;32m    404\u001b[0m \u001b[39m@validate_params\u001b[39m(\n\u001b[0;32m    405\u001b[0m     {\n\u001b[0;32m    406\u001b[0m         \u001b[39m\"\u001b[39m\u001b[39my_true\u001b[39m\u001b[39m\"\u001b[39m: [\u001b[39m\"\u001b[39m\u001b[39marray-like\u001b[39m\u001b[39m\"\u001b[39m],\n\u001b[1;32m   (...)\u001b[0m\n\u001b[0;32m    415\u001b[0m     y_true, y_pred, \u001b[39m*\u001b[39m, sample_weight\u001b[39m=\u001b[39m\u001b[39mNone\u001b[39;00m, multioutput\u001b[39m=\u001b[39m\u001b[39m\"\u001b[39m\u001b[39muniform_average\u001b[39m\u001b[39m\"\u001b[39m, squared\u001b[39m=\u001b[39m\u001b[39mTrue\u001b[39;00m\n\u001b[0;32m    416\u001b[0m ):\n\u001b[0;32m    417\u001b[0m \u001b[39m    \u001b[39m\u001b[39m\"\"\"Mean squared error regression loss.\u001b[39;00m\n\u001b[0;32m    418\u001b[0m \n\u001b[0;32m    419\u001b[0m \u001b[39m    Read more in the :ref:`User Guide <mean_squared_error>`.\u001b[39;00m\n\u001b[1;32m   (...)\u001b[0m\n\u001b[0;32m    472\u001b[0m \u001b[39m    0.825...\u001b[39;00m\n\u001b[0;32m    473\u001b[0m \u001b[39m    \"\"\"\u001b[39;00m\n\u001b[1;32m--> 474\u001b[0m     y_type, y_true, y_pred, multioutput \u001b[39m=\u001b[39m _check_reg_targets(\n\u001b[0;32m    475\u001b[0m         y_true, y_pred, multioutput\n\u001b[0;32m    476\u001b[0m     )\n\u001b[0;32m    477\u001b[0m     check_consistent_length(y_true, y_pred, sample_weight)\n\u001b[0;32m    478\u001b[0m     output_errors \u001b[39m=\u001b[39m np\u001b[39m.\u001b[39maverage((y_true \u001b[39m-\u001b[39m y_pred) \u001b[39m*\u001b[39m\u001b[39m*\u001b[39m \u001b[39m2\u001b[39m, axis\u001b[39m=\u001b[39m\u001b[39m0\u001b[39m, weights\u001b[39m=\u001b[39msample_weight)\n",
      "File \u001b[1;32mc:\\Anaconda3\\envs\\myYonlu\\lib\\site-packages\\sklearn\\metrics\\_regression.py:110\u001b[0m, in \u001b[0;36m_check_reg_targets\u001b[1;34m(y_true, y_pred, multioutput, dtype)\u001b[0m\n\u001b[0;32m    107\u001b[0m     y_pred \u001b[39m=\u001b[39m y_pred\u001b[39m.\u001b[39mreshape((\u001b[39m-\u001b[39m\u001b[39m1\u001b[39m, \u001b[39m1\u001b[39m))\n\u001b[0;32m    109\u001b[0m \u001b[39mif\u001b[39;00m y_true\u001b[39m.\u001b[39mshape[\u001b[39m1\u001b[39m] \u001b[39m!=\u001b[39m y_pred\u001b[39m.\u001b[39mshape[\u001b[39m1\u001b[39m]:\n\u001b[1;32m--> 110\u001b[0m     \u001b[39mraise\u001b[39;00m \u001b[39mValueError\u001b[39;00m(\n\u001b[0;32m    111\u001b[0m         \u001b[39m\"\u001b[39m\u001b[39my_true and y_pred have different number of output (\u001b[39m\u001b[39m{0}\u001b[39;00m\u001b[39m!=\u001b[39m\u001b[39m{1}\u001b[39;00m\u001b[39m)\u001b[39m\u001b[39m\"\u001b[39m\u001b[39m.\u001b[39mformat(\n\u001b[0;32m    112\u001b[0m             y_true\u001b[39m.\u001b[39mshape[\u001b[39m1\u001b[39m], y_pred\u001b[39m.\u001b[39mshape[\u001b[39m1\u001b[39m]\n\u001b[0;32m    113\u001b[0m         )\n\u001b[0;32m    114\u001b[0m     )\n\u001b[0;32m    116\u001b[0m n_outputs \u001b[39m=\u001b[39m y_true\u001b[39m.\u001b[39mshape[\u001b[39m1\u001b[39m]\n\u001b[0;32m    117\u001b[0m allowed_multioutput_str \u001b[39m=\u001b[39m (\u001b[39m\"\u001b[39m\u001b[39mraw_values\u001b[39m\u001b[39m\"\u001b[39m, \u001b[39m\"\u001b[39m\u001b[39muniform_average\u001b[39m\u001b[39m\"\u001b[39m, \u001b[39m\"\u001b[39m\u001b[39mvariance_weighted\u001b[39m\u001b[39m\"\u001b[39m)\n",
      "\u001b[1;31mValueError\u001b[0m: y_true and y_pred have different number of output (1!=64)"
     ]
    }
   ],
   "source": [
    "from sklearn.metrics import mean_squared_error\n",
    "mean_squared_error(test_targets, y_pred)**0.5"
   ]
  },
  {
   "cell_type": "code",
   "execution_count": 23,
   "metadata": {},
   "outputs": [
    {
     "data": {
      "text/plain": [
       "(102,)"
      ]
     },
     "execution_count": 23,
     "metadata": {},
     "output_type": "execute_result"
    }
   ],
   "source": [
    "test_targets.shape"
   ]
  },
  {
   "cell_type": "code",
   "execution_count": 26,
   "metadata": {},
   "outputs": [
    {
     "data": {
      "text/plain": [
       "array([[ 0.       ,  0.       ,  0.       , ...,  0.       ,  0.       ,\n",
       "         9.452842 ],\n",
       "       [ 0.       ,  3.3244731,  0.7517288, ...,  1.0007886,  0.8900837,\n",
       "         2.870164 ],\n",
       "       [ 7.193035 ,  3.3974638,  7.7374496, ...,  7.6195154,  7.4392405,\n",
       "         0.       ],\n",
       "       ...,\n",
       "       [ 4.969231 , 10.61603  ,  5.5140862, ...,  5.616912 ,  6.1568375,\n",
       "         4.0502844],\n",
       "       [ 6.5716157,  8.256573 ,  7.9098988, ...,  7.5689216,  7.3745365,\n",
       "         2.0931897],\n",
       "       [ 0.       ,  3.036962 ,  0.       , ...,  0.       ,  0.       ,\n",
       "         3.871147 ]], dtype=float32)"
      ]
     },
     "execution_count": 26,
     "metadata": {},
     "output_type": "execute_result"
    }
   ],
   "source": [
    "y_pred"
   ]
  },
  {
   "cell_type": "code",
   "execution_count": 19,
   "metadata": {},
   "outputs": [
    {
     "ename": "ValueError",
     "evalue": "y_true and y_pred have different number of output (1!=64)",
     "output_type": "error",
     "traceback": [
      "\u001b[1;31m---------------------------------------------------------------------------\u001b[0m",
      "\u001b[1;31mValueError\u001b[0m                                Traceback (most recent call last)",
      "\u001b[1;32mc:\\Users\\김민정\\python_workspace\\20232_DL\\0911\\FNN_housing_example_SGD.ipynb Cell 31\u001b[0m line \u001b[0;36m2\n\u001b[0;32m      <a href='vscode-notebook-cell:/c%3A/Users/%EA%B9%80%EB%AF%BC%EC%A0%95/python_workspace/20232_DL/0911/FNN_housing_example_SGD.ipynb#X42sZmlsZQ%3D%3D?line=0'>1</a>\u001b[0m \u001b[39mfrom\u001b[39;00m \u001b[39msklearn\u001b[39;00m\u001b[39m.\u001b[39;00m\u001b[39mmetrics\u001b[39;00m \u001b[39mimport\u001b[39;00m r2_score\n\u001b[1;32m----> <a href='vscode-notebook-cell:/c%3A/Users/%EA%B9%80%EB%AF%BC%EC%A0%95/python_workspace/20232_DL/0911/FNN_housing_example_SGD.ipynb#X42sZmlsZQ%3D%3D?line=1'>2</a>\u001b[0m r2_score(test_targets, y_pred)\n",
      "File \u001b[1;32mc:\\Anaconda3\\envs\\myYonlu\\lib\\site-packages\\sklearn\\utils\\_param_validation.py:211\u001b[0m, in \u001b[0;36mvalidate_params.<locals>.decorator.<locals>.wrapper\u001b[1;34m(*args, **kwargs)\u001b[0m\n\u001b[0;32m    205\u001b[0m \u001b[39mtry\u001b[39;00m:\n\u001b[0;32m    206\u001b[0m     \u001b[39mwith\u001b[39;00m config_context(\n\u001b[0;32m    207\u001b[0m         skip_parameter_validation\u001b[39m=\u001b[39m(\n\u001b[0;32m    208\u001b[0m             prefer_skip_nested_validation \u001b[39mor\u001b[39;00m global_skip_validation\n\u001b[0;32m    209\u001b[0m         )\n\u001b[0;32m    210\u001b[0m     ):\n\u001b[1;32m--> 211\u001b[0m         \u001b[39mreturn\u001b[39;00m func(\u001b[39m*\u001b[39;49margs, \u001b[39m*\u001b[39;49m\u001b[39m*\u001b[39;49mkwargs)\n\u001b[0;32m    212\u001b[0m \u001b[39mexcept\u001b[39;00m InvalidParameterError \u001b[39mas\u001b[39;00m e:\n\u001b[0;32m    213\u001b[0m     \u001b[39m# When the function is just a wrapper around an estimator, we allow\u001b[39;00m\n\u001b[0;32m    214\u001b[0m     \u001b[39m# the function to delegate validation to the estimator, but we replace\u001b[39;00m\n\u001b[0;32m    215\u001b[0m     \u001b[39m# the name of the estimator by the name of the function in the error\u001b[39;00m\n\u001b[0;32m    216\u001b[0m     \u001b[39m# message to avoid confusion.\u001b[39;00m\n\u001b[0;32m    217\u001b[0m     msg \u001b[39m=\u001b[39m re\u001b[39m.\u001b[39msub(\n\u001b[0;32m    218\u001b[0m         \u001b[39mr\u001b[39m\u001b[39m\"\u001b[39m\u001b[39mparameter of \u001b[39m\u001b[39m\\\u001b[39m\u001b[39mw+ must be\u001b[39m\u001b[39m\"\u001b[39m,\n\u001b[0;32m    219\u001b[0m         \u001b[39mf\u001b[39m\u001b[39m\"\u001b[39m\u001b[39mparameter of \u001b[39m\u001b[39m{\u001b[39;00mfunc\u001b[39m.\u001b[39m\u001b[39m__qualname__\u001b[39m\u001b[39m}\u001b[39;00m\u001b[39m must be\u001b[39m\u001b[39m\"\u001b[39m,\n\u001b[0;32m    220\u001b[0m         \u001b[39mstr\u001b[39m(e),\n\u001b[0;32m    221\u001b[0m     )\n",
      "File \u001b[1;32mc:\\Anaconda3\\envs\\myYonlu\\lib\\site-packages\\sklearn\\metrics\\_regression.py:989\u001b[0m, in \u001b[0;36mr2_score\u001b[1;34m(y_true, y_pred, sample_weight, multioutput, force_finite)\u001b[0m\n\u001b[0;32m    848\u001b[0m \u001b[39m@validate_params\u001b[39m(\n\u001b[0;32m    849\u001b[0m     {\n\u001b[0;32m    850\u001b[0m         \u001b[39m\"\u001b[39m\u001b[39my_true\u001b[39m\u001b[39m\"\u001b[39m: [\u001b[39m\"\u001b[39m\u001b[39marray-like\u001b[39m\u001b[39m\"\u001b[39m],\n\u001b[1;32m   (...)\u001b[0m\n\u001b[0;32m    868\u001b[0m     force_finite\u001b[39m=\u001b[39m\u001b[39mTrue\u001b[39;00m,\n\u001b[0;32m    869\u001b[0m ):\n\u001b[0;32m    870\u001b[0m \u001b[39m    \u001b[39m\u001b[39m\"\"\":math:`R^2` (coefficient of determination) regression score function.\u001b[39;00m\n\u001b[0;32m    871\u001b[0m \n\u001b[0;32m    872\u001b[0m \u001b[39m    Best possible score is 1.0 and it can be negative (because the\u001b[39;00m\n\u001b[1;32m   (...)\u001b[0m\n\u001b[0;32m    987\u001b[0m \u001b[39m    -inf\u001b[39;00m\n\u001b[0;32m    988\u001b[0m \u001b[39m    \"\"\"\u001b[39;00m\n\u001b[1;32m--> 989\u001b[0m     y_type, y_true, y_pred, multioutput \u001b[39m=\u001b[39m _check_reg_targets(\n\u001b[0;32m    990\u001b[0m         y_true, y_pred, multioutput\n\u001b[0;32m    991\u001b[0m     )\n\u001b[0;32m    992\u001b[0m     check_consistent_length(y_true, y_pred, sample_weight)\n\u001b[0;32m    994\u001b[0m     \u001b[39mif\u001b[39;00m _num_samples(y_pred) \u001b[39m<\u001b[39m \u001b[39m2\u001b[39m:\n",
      "File \u001b[1;32mc:\\Anaconda3\\envs\\myYonlu\\lib\\site-packages\\sklearn\\metrics\\_regression.py:110\u001b[0m, in \u001b[0;36m_check_reg_targets\u001b[1;34m(y_true, y_pred, multioutput, dtype)\u001b[0m\n\u001b[0;32m    107\u001b[0m     y_pred \u001b[39m=\u001b[39m y_pred\u001b[39m.\u001b[39mreshape((\u001b[39m-\u001b[39m\u001b[39m1\u001b[39m, \u001b[39m1\u001b[39m))\n\u001b[0;32m    109\u001b[0m \u001b[39mif\u001b[39;00m y_true\u001b[39m.\u001b[39mshape[\u001b[39m1\u001b[39m] \u001b[39m!=\u001b[39m y_pred\u001b[39m.\u001b[39mshape[\u001b[39m1\u001b[39m]:\n\u001b[1;32m--> 110\u001b[0m     \u001b[39mraise\u001b[39;00m \u001b[39mValueError\u001b[39;00m(\n\u001b[0;32m    111\u001b[0m         \u001b[39m\"\u001b[39m\u001b[39my_true and y_pred have different number of output (\u001b[39m\u001b[39m{0}\u001b[39;00m\u001b[39m!=\u001b[39m\u001b[39m{1}\u001b[39;00m\u001b[39m)\u001b[39m\u001b[39m\"\u001b[39m\u001b[39m.\u001b[39mformat(\n\u001b[0;32m    112\u001b[0m             y_true\u001b[39m.\u001b[39mshape[\u001b[39m1\u001b[39m], y_pred\u001b[39m.\u001b[39mshape[\u001b[39m1\u001b[39m]\n\u001b[0;32m    113\u001b[0m         )\n\u001b[0;32m    114\u001b[0m     )\n\u001b[0;32m    116\u001b[0m n_outputs \u001b[39m=\u001b[39m y_true\u001b[39m.\u001b[39mshape[\u001b[39m1\u001b[39m]\n\u001b[0;32m    117\u001b[0m allowed_multioutput_str \u001b[39m=\u001b[39m (\u001b[39m\"\u001b[39m\u001b[39mraw_values\u001b[39m\u001b[39m\"\u001b[39m, \u001b[39m\"\u001b[39m\u001b[39muniform_average\u001b[39m\u001b[39m\"\u001b[39m, \u001b[39m\"\u001b[39m\u001b[39mvariance_weighted\u001b[39m\u001b[39m\"\u001b[39m)\n",
      "\u001b[1;31mValueError\u001b[0m: y_true and y_pred have different number of output (1!=64)"
     ]
    }
   ],
   "source": [
    "from sklearn.metrics import r2_score\n",
    "r2_score(test_targets, y_pred)"
   ]
  },
  {
   "cell_type": "code",
   "execution_count": null,
   "metadata": {},
   "outputs": [],
   "source": []
  },
  {
   "cell_type": "code",
   "execution_count": null,
   "metadata": {},
   "outputs": [],
   "source": []
  }
 ],
 "metadata": {
  "kernelspec": {
   "display_name": "Python 3 (ipykernel)",
   "language": "python",
   "name": "python3"
  },
  "language_info": {
   "codemirror_mode": {
    "name": "ipython",
    "version": 3
   },
   "file_extension": ".py",
   "mimetype": "text/x-python",
   "name": "python",
   "nbconvert_exporter": "python",
   "pygments_lexer": "ipython3",
   "version": "3.8.18"
  }
 },
 "nbformat": 4,
 "nbformat_minor": 2
}
